{
  "nbformat": 4,
  "nbformat_minor": 0,
  "metadata": {
    "colab": {
      "name": "AI_Project2_MachineLearining.ipynb",
      "provenance": [],
      "collapsed_sections": []
    },
    "kernelspec": {
      "name": "python3",
      "display_name": "Python 3"
    },
    "language_info": {
      "name": "python"
    }
  },
  "cells": [
    {
      "cell_type": "markdown",
      "source": [
        "**Imports and Fetching data from lfw (Labeled Faces in the Wild) Dataset**"
      ],
      "metadata": {
        "id": "gkpSilDdkkVt"
      }
    },
    {
      "cell_type": "code",
      "execution_count": null,
      "metadata": {
        "id": "03-bQJQYQyFS"
      },
      "outputs": [],
      "source": [
        "from numpy import mean\n",
        "from numpy import std\n",
        "from sklearn import datasets\n",
        "from sklearn.decomposition import PCA\n",
        "from sklearn.neighbors import KNeighborsClassifier\n",
        "from sklearn import metrics\n",
        "from sklearn.model_selection import KFold\n",
        "from sklearn.model_selection import cross_val_score\n",
        "from sklearn.model_selection import train_test_split\n",
        "dataSet = datasets.fetch_lfw_people(min_faces_per_person=70)\n",
        "# dataSet = datasets.load_digits()\n",
        "# print(dataSet.feature_names)"
      ]
    },
    {
      "cell_type": "markdown",
      "source": [
        "**Printing target**"
      ],
      "metadata": {
        "id": "f0aEHFHwk1Rx"
      }
    },
    {
      "cell_type": "code",
      "source": [
        "print(dataSet.target)"
      ],
      "metadata": {
        "id": "7uBjDVtoSOIz",
        "colab": {
          "base_uri": "https://localhost:8080/"
        },
        "outputId": "c90c1e61-87df-4cb5-c4a9-c906b349287d"
      },
      "execution_count": null,
      "outputs": [
        {
          "output_type": "stream",
          "name": "stdout",
          "text": [
            "[5 6 3 ... 5 3 5]\n"
          ]
        }
      ]
    },
    {
      "cell_type": "markdown",
      "source": [
        "**Printing Target name**"
      ],
      "metadata": {
        "id": "5bxT6pJWk7fZ"
      }
    },
    {
      "cell_type": "code",
      "source": [
        "print(dataSet.target_names)"
      ],
      "metadata": {
        "colab": {
          "base_uri": "https://localhost:8080/"
        },
        "id": "pLOsUidaRll6",
        "outputId": "7d67a3fa-39c4-4f62-a7d4-3128fc67789a"
      },
      "execution_count": null,
      "outputs": [
        {
          "output_type": "stream",
          "name": "stdout",
          "text": [
            "['Ariel Sharon' 'Colin Powell' 'Donald Rumsfeld' 'George W Bush'\n",
            " 'Gerhard Schroeder' 'Hugo Chavez' 'Tony Blair']\n"
          ]
        }
      ]
    },
    {
      "cell_type": "markdown",
      "source": [
        "**Printing the shape of data**"
      ],
      "metadata": {
        "id": "R8jWkrNTlEn9"
      }
    },
    {
      "cell_type": "code",
      "source": [
        "print(dataSet.data.shape)"
      ],
      "metadata": {
        "id": "8Fni1-E_Ryfx",
        "colab": {
          "base_uri": "https://localhost:8080/"
        },
        "outputId": "17a4c3a2-0bc1-4d70-946c-d7e8919d856d"
      },
      "execution_count": null,
      "outputs": [
        {
          "output_type": "stream",
          "name": "stdout",
          "text": [
            "(1288, 2914)\n"
          ]
        }
      ]
    },
    {
      "cell_type": "markdown",
      "source": [
        "**X has the image data, y has target (the index of the image) and training the data and splitting it for test**"
      ],
      "metadata": {
        "id": "BmPNIPl2lOVQ"
      }
    },
    {
      "cell_type": "code",
      "source": [
        "X = dataSet.data.reshape(len(dataSet.data), -1) #Converting 2d array to Vector\n",
        "y = dataSet.target\n",
        "target_names = dataSet.target_names\n",
        "X_train, X_test, y_train, y_test = train_test_split(X, y, test_size = 0.20)"
      ],
      "metadata": {
        "id": "YHNc9rNJUEbm"
      },
      "execution_count": null,
      "outputs": []
    },
    {
      "cell_type": "markdown",
      "source": [
        "**Convert X_train to zero mean and variance of 1 to be easier to use by using the PCA(Principal Component Analysis) to fit the X_train which reduce the variable numbers to smaller number to be easier and faster to deal with, whiten is used to make input less redundent**"
      ],
      "metadata": {
        "id": "WEuD6HXDlyCs"
      }
    },
    {
      "cell_type": "code",
      "source": [
        "# performing preprocessing part\n",
        "from sklearn.preprocessing import StandardScaler\n",
        "sc = StandardScaler()\n",
        "X_train = sc.fit_transform(X_train)\n",
        "X_test = sc.transform(X_test)\n",
        "\n",
        "# Compute a PCA \n",
        "n_components = 75\n",
        "pca = PCA(n_components=n_components, whiten=True).fit(X_train)\n",
        "#n_components -> principal components used in dimensionality reduction\n",
        "#whiten -> it is needed for some algorithms. If we are training on images, the raw input is redundant, \n",
        "#since adjacent pixel values are highly correlated. The goal of whitening is to make the input less redundant\n",
        "# apply PCA transformation\n",
        "X_train_pca = pca.transform(X_train)\n",
        "X_test_pca = pca.transform(X_test)"
      ],
      "metadata": {
        "id": "e4v6mieeX_5d"
      },
      "execution_count": null,
      "outputs": []
    },
    {
      "cell_type": "markdown",
      "source": [
        "**Naive Bayes is used which gave an accuracy between 0.7-0.8**"
      ],
      "metadata": {
        "id": "BToI96NemO97"
      }
    },
    {
      "cell_type": "code",
      "source": [
        "from sklearn.naive_bayes import GaussianNB\n",
        "# from sklearn.neighbors import KNeighborsClassifier\n",
        "print(\"Fitting the classifier to the training set\")\n",
        "# clf = KNeighborsClassifier(n_neighbors=7).fit(X_train_pca, y_train)\n",
        "clf= GaussianNB().fit(X_train_pca, y_train)\n",
        "# clf= GaussianNB(var_smoothing=2e-5).fit(X_train_pca, y_train)\n",
        "#1e-9 -> default variance so when decreasing it , accuracy decreases"
      ],
      "metadata": {
        "id": "FF7TIfTcYCYa",
        "colab": {
          "base_uri": "https://localhost:8080/"
        },
        "outputId": "5aac5ec3-1b0c-419f-a219-c4d230c56d7e"
      },
      "execution_count": null,
      "outputs": [
        {
          "output_type": "stream",
          "name": "stdout",
          "text": [
            "Fitting the classifier to the training set\n"
          ]
        }
      ]
    },
    {
      "cell_type": "markdown",
      "source": [
        "**Using test in prediction and printing a classification report and an accuracy score**"
      ],
      "metadata": {
        "id": "uu73YaH_meQZ"
      }
    },
    {
      "cell_type": "code",
      "source": [
        "y_pred = clf.predict(X_test_pca)\n",
        "print(metrics.classification_report(y_test, y_pred, target_names=target_names))\n",
        "print(\"Accuracy:\",metrics.accuracy_score(y_test, y_pred))"
      ],
      "metadata": {
        "colab": {
          "base_uri": "https://localhost:8080/"
        },
        "id": "KFh9LwminnmX",
        "outputId": "ace0219c-f0f4-4cdc-bf74-fbc964d95e7e"
      },
      "execution_count": null,
      "outputs": [
        {
          "output_type": "stream",
          "name": "stdout",
          "text": [
            "                   precision    recall  f1-score   support\n",
            "\n",
            "     Ariel Sharon       0.56      0.36      0.43        14\n",
            "     Colin Powell       0.90      0.76      0.83        50\n",
            "  Donald Rumsfeld       0.65      0.76      0.70        17\n",
            "    George W Bush       0.76      0.94      0.84       109\n",
            "Gerhard Schroeder       0.83      0.60      0.70        25\n",
            "      Hugo Chavez       0.77      0.77      0.77        13\n",
            "       Tony Blair       0.90      0.60      0.72        30\n",
            "\n",
            "         accuracy                           0.78       258\n",
            "        macro avg       0.77      0.69      0.71       258\n",
            "     weighted avg       0.79      0.78      0.78       258\n",
            "\n",
            "Accuracy: 0.7829457364341085\n"
          ]
        }
      ]
    },
    {
      "cell_type": "markdown",
      "source": [
        "**KFold is used to cross so that the test data and trained data are merged and the naive bayes model is used**"
      ],
      "metadata": {
        "id": "vosp9aY6mmif"
      }
    },
    {
      "cell_type": "code",
      "source": [
        "for i in range(5,20):\n",
        "  # cv = KFold(n_splits=i, random_state=1, shuffle=True)\n",
        "  cv = KFold(n_splits=i)\n",
        "  scores = cross_val_score(clf, X_train_pca, y_train, scoring='accuracy', cv=cv, n_jobs=-1)\n",
        "  # report performance\n",
        "  print('Accuracy: %.3f (%.3f)' % (mean(scores), std(scores)))\n"
      ],
      "metadata": {
        "colab": {
          "base_uri": "https://localhost:8080/"
        },
        "id": "by6XTQlkUEhD",
        "outputId": "8e08db92-ac47-4164-f141-8908383e3aa6"
      },
      "execution_count": null,
      "outputs": [
        {
          "output_type": "stream",
          "name": "stdout",
          "text": [
            "Accuracy: 0.736 (0.010)\n",
            "Accuracy: 0.745 (0.007)\n",
            "Accuracy: 0.746 (0.033)\n",
            "Accuracy: 0.758 (0.023)\n",
            "Accuracy: 0.755 (0.029)\n",
            "Accuracy: 0.758 (0.035)\n",
            "Accuracy: 0.759 (0.034)\n",
            "Accuracy: 0.763 (0.027)\n",
            "Accuracy: 0.762 (0.033)\n",
            "Accuracy: 0.765 (0.050)\n",
            "Accuracy: 0.766 (0.044)\n",
            "Accuracy: 0.761 (0.046)\n",
            "Accuracy: 0.767 (0.045)\n",
            "Accuracy: 0.767 (0.038)\n",
            "Accuracy: 0.761 (0.049)\n"
          ]
        }
      ]
    }
  ]
}